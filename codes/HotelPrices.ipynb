{
 "cells": [
  {
   "cell_type": "markdown",
   "metadata": {},
   "source": [
    "\"\"\"\n",
    "Created on Wed Mar 20 09:30:29 2019\n",
    "\n",
    "@author: gpapalambrou\n",
    "\"\"\""
   ]
  },
  {
   "cell_type": "code",
   "execution_count": 21,
   "metadata": {},
   "outputs": [],
   "source": [
    "class HotelRoomCalc(object):\n",
    "\n",
    "    'Hotel room rate calculator'\n",
    "\n",
    "    def __init__(self, rt, sales=0.085, rm=0.1):\n",
    "        '''HotelRoomCalc default arguments:\n",
    "        sales tax == 8.5% and room tax == 10%'''\n",
    "        self.salesTax = sales\n",
    "        self.roomTax = rm\n",
    "        self.roomRate = rt\n",
    "\n",
    "    def calcTotal(self, days=1):\n",
    "        'Calculate total; default to daily rate'\n",
    "        daily = round((self.roomRate *\n",
    "            (1 + self.roomTax + self.salesTax)), 2)\n",
    "        return float(days) * daily"
   ]
  },
  {
   "cell_type": "code",
   "execution_count": 22,
   "metadata": {},
   "outputs": [],
   "source": [
    "sfo = HotelRoomCalc(299)"
   ]
  },
  {
   "cell_type": "code",
   "execution_count": 23,
   "metadata": {},
   "outputs": [
    {
     "data": {
      "text/plain": [
       "354.31"
      ]
     },
     "execution_count": 23,
     "metadata": {},
     "output_type": "execute_result"
    }
   ],
   "source": [
    "sfo.calcTotal()"
   ]
  },
  {
   "cell_type": "markdown",
   "metadata": {},
   "source": [
    "The main purpose of our code is to help someone figure out the daily hotel room rate, including any\n",
    "state sales and room taxes. The default is for the general area around San Francisco, which has an\n",
    "8.5% sales tax and a 10% room tax. \n",
    "## The daily room rate has no default value, thus it is required for any\n",
    "instance to be created."
   ]
  },
  {
   "cell_type": "code",
   "execution_count": null,
   "metadata": {},
   "outputs": [],
   "source": []
  }
 ],
 "metadata": {
  "kernelspec": {
   "display_name": "Python 2",
   "language": "python",
   "name": "python2"
  },
  "language_info": {
   "codemirror_mode": {
    "name": "ipython",
    "version": 2
   },
   "file_extension": ".py",
   "mimetype": "text/x-python",
   "name": "python",
   "nbconvert_exporter": "python",
   "pygments_lexer": "ipython2",
   "version": "2.7.17"
  }
 },
 "nbformat": 4,
 "nbformat_minor": 2
}
