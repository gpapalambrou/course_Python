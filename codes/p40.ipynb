{
 "cells": [
  {
   "cell_type": "markdown",
   "metadata": {},
   "source": [
    "## notebook for script p40.py\n",
    "* version 1\n"
   ]
  },
  {
   "cell_type": "markdown",
   "metadata": {},
   "source": [
    "## G. Papalambrou, 8/4/2020"
   ]
  },
  {
   "cell_type": "code",
   "execution_count": 10,
   "metadata": {},
   "outputs": [],
   "source": [
    "def test(x, y):\n",
    "    \"\"\" this is a help docstring for my function text(). BLA BLA\n",
    "    BL BLAAAA \"\"\"\n",
    "    a=x/y\n",
    "    b=x%y\n",
    "    return a,b"
   ]
  },
  {
   "cell_type": "code",
   "execution_count": 3,
   "metadata": {},
   "outputs": [
    {
     "data": {
      "text/plain": [
       "(1, 2)"
      ]
     },
     "execution_count": 3,
     "metadata": {},
     "output_type": "execute_result"
    }
   ],
   "source": [
    "test(5,3)\n"
   ]
  },
  {
   "cell_type": "markdown",
   "metadata": {},
   "source": [
    "### results from the above call:"
   ]
  },
  {
   "cell_type": "markdown",
   "metadata": {},
   "source": [
    "Build the `tf.keras.Sequential` model by stacking layers. Choose an optimizer and loss function for training:"
   ]
  },
  {
   "cell_type": "markdown",
   "metadata": {},
   "source": [
    "*This notebook contains an excerpt from the [Python Data Science Handbook](http://shop.oreilly.com/product/0636920034919.do) by Jake VanderPlas; the content is available [on GitHub](https://github.com/jakevdp/PythonDataScienceHandbook).*\n"
   ]
  },
  {
   "cell_type": "code",
   "execution_count": 4,
   "metadata": {},
   "outputs": [],
   "source": [
    "c, d = test(5,2)\n"
   ]
  },
  {
   "cell_type": "code",
   "execution_count": 5,
   "metadata": {},
   "outputs": [
    {
     "name": "stdout",
     "output_type": "stream",
     "text": [
      "2\n"
     ]
    }
   ],
   "source": [
    "print(c)\n"
   ]
  },
  {
   "cell_type": "code",
   "execution_count": 6,
   "metadata": {},
   "outputs": [
    {
     "name": "stdout",
     "output_type": "stream",
     "text": [
      "1\n"
     ]
    }
   ],
   "source": [
    "print(d)\n"
   ]
  },
  {
   "cell_type": "markdown",
   "metadata": {},
   "source": [
    "* hello again"
   ]
  },
  {
   "cell_type": "code",
   "execution_count": 11,
   "metadata": {},
   "outputs": [
    {
     "name": "stdout",
     "output_type": "stream",
     "text": [
      "Help on function test in module __main__:\n",
      "\n",
      "test(x, y)\n",
      "    this is a help docstring for my function text(). BLA BLA\n",
      "    BL BLAAAA\n",
      "\n"
     ]
    }
   ],
   "source": [
    "help(test)"
   ]
  },
  {
   "cell_type": "markdown",
   "metadata": {},
   "source": [
    "* idea 1: how to conver two numbers \n",
    "* idea 2: transmit power"
   ]
  },
  {
   "cell_type": "code",
   "execution_count": 12,
   "metadata": {},
   "outputs": [
    {
     "name": "stdout",
     "output_type": "stream",
     "text": [
      "xxx-0\n",
      "xxx-1\n",
      "xxx-2\n",
      "xxx-3\n",
      "xxx-4\n",
      "xxx-5\n",
      "xxx-6\n",
      "xxx-7\n",
      "xxx-8\n",
      "xxx-9\n",
      "CPU times: user 155 µs, sys: 46 µs, total: 201 µs\n",
      "Wall time: 204 µs\n"
     ]
    }
   ],
   "source": [
    "%%time\n",
    "for i in range (0,10):\n",
    "    print(\"xxx-{}\".format(i))"
   ]
  },
  {
   "cell_type": "code",
   "execution_count": 13,
   "metadata": {},
   "outputs": [
    {
     "name": "stdout",
     "output_type": "stream",
     "text": [
      "total 128\n",
      "drwxrwxrwx 5 gpapalambrou gpapalambrou 4096 Απρ   9 18:33 .\n",
      "drwxrwxrwx 7 gpapalambrou gpapalambrou 4096 Απρ   9 17:41 ..\n",
      "-rwxrwxrwx 1 gpapalambrou gpapalambrou  627 Απρ   2 22:07 3_1.py\n",
      "-rwxrwxrwx 1 gpapalambrou gpapalambrou  570 Φεβ  28  2019 3_1.py~\n",
      "-rwxr-xr-x 1 gpapalambrou gpapalambrou  345 Απρ   2 22:05 3_2.py\n",
      "-rwxrwxrwx 1 gpapalambrou gpapalambrou  348 Μαρ  20  2019 atom.py\n",
      "-rwxrwxrwx 1 gpapalambrou gpapalambrou  210 Απρ   1 18:49 break.py\n",
      "-rwxrwxrwx 1 gpapalambrou gpapalambrou 1031 Μαρ  13  2019 easyMath1.py\n",
      "-rwxrwxrwx 1 gpapalambrou gpapalambrou  419 Μαρ  13  2019 ex_functions.py\n",
      "-rw-r--r-- 1 gpapalambrou gpapalambrou   60 Απρ   1 20:11 guis.py\n",
      "-rwxrwxrwx 1 gpapalambrou gpapalambrou   93 Φεβ  28  2019 hello1.py\n",
      "drwxrwxrwx 2 gpapalambrou gpapalambrou 4096 Μαρ  21  2019 .idea\n",
      "-rwxrwxrwx 1 gpapalambrou gpapalambrou   98 Μαρ  13  2019 imptee.py\n",
      "-rwxrwxrwx 1 gpapalambrou gpapalambrou  421 Μαρ  13  2019 imptee.pyc\n",
      "-rwxrwxrwx 1 gpapalambrou gpapalambrou  139 Μαρ  13  2019 impter2.py\n",
      "-rwxrwxrwx 1 gpapalambrou gpapalambrou  126 Μαρ  13  2019 impter.py\n",
      "drwxr-xr-x 2 gpapalambrou gpapalambrou 4096 Απρ   9 18:13 .ipynb_checkpoints\n",
      "-rwxrwxrwx 1 gpapalambrou gpapalambrou   17 Μαρ   5  2019 myfile.txt\n",
      "-rwxrwxrwx 1 gpapalambrou gpapalambrou  132 Μαρ   5  2019 open_file.py\n",
      "-rw-r--r-- 1 gpapalambrou gpapalambrou 2395 Απρ   9 17:49 p38.ipynb\n",
      "-rwxrwxrwx 1 gpapalambrou gpapalambrou  228 Μαρ  15  2019 p38.py\n",
      "-rw-r--r-- 1 gpapalambrou gpapalambrou 1557 Απρ   9 17:52 p39.ipynb\n",
      "-rwxrwxrwx 1 gpapalambrou gpapalambrou  202 Μαρ  15  2019 p39.py\n",
      "-rw-r--r-- 1 gpapalambrou gpapalambrou 3077 Απρ   9 18:33 p40.ipynb\n",
      "-rwxrwxrwx 1 gpapalambrou gpapalambrou  226 Μαρ  15  2019 p43.py\n",
      "-rwxrwxrwx 1 gpapalambrou gpapalambrou  130 Μαρ  15  2019 p45.py\n",
      "-rwxrwxrwx 1 gpapalambrou gpapalambrou  987 Μαρ  15  2019 primes.py\n",
      "drwxrwxrwx 2 gpapalambrou gpapalambrou 4096 Μαρ  20  2019 __pycache__\n",
      "-rwxrwxrwx 1 gpapalambrou gpapalambrou  209 Μαρ  15  2019 scr_p40.py\n",
      "-rw-r--r-- 1 gpapalambrou gpapalambrou    0 Απρ   3 09:56 test\n",
      "-rw-r--r-- 1 gpapalambrou gpapalambrou   11 Απρ   2 22:07 tt\n",
      "-rw-r--r-- 1 gpapalambrou gpapalambrou  556 Απρ   9 17:53 Untitled1.ipynb\n",
      "-rw-r--r-- 1 gpapalambrou gpapalambrou  556 Απρ   9 17:44 Untitled.ipynb\n"
     ]
    }
   ],
   "source": [
    "%%bash\n",
    "ls -all"
   ]
  },
  {
   "cell_type": "code",
   "execution_count": 16,
   "metadata": {},
   "outputs": [
    {
     "name": "stdout",
     "output_type": "stream",
     "text": [
      "total 140\n",
      "drwxrwxrwx 5 gpapalambrou gpapalambrou 4096 Απρ   9 19:19 .\n",
      "drwxrwxrwx 7 gpapalambrou gpapalambrou 4096 Απρ   9 17:41 ..\n",
      "-rwxrwxrwx 1 gpapalambrou gpapalambrou  627 Απρ   2 22:07 3_1.py\n",
      "-rwxrwxrwx 1 gpapalambrou gpapalambrou  570 Φεβ  28  2019 3_1.py~\n",
      "-rwxr-xr-x 1 gpapalambrou gpapalambrou  345 Απρ   2 22:05 3_2.py\n",
      "-rwxrwxrwx 1 gpapalambrou gpapalambrou  348 Μαρ  20  2019 atom.py\n",
      "-rwxrwxrwx 1 gpapalambrou gpapalambrou  210 Απρ   1 18:49 break.py\n",
      "-rwxrwxrwx 1 gpapalambrou gpapalambrou 1031 Μαρ  13  2019 easyMath1.py\n",
      "-rwxrwxrwx 1 gpapalambrou gpapalambrou  419 Μαρ  13  2019 ex_functions.py\n",
      "-rw-r--r-- 1 gpapalambrou gpapalambrou   60 Απρ   1 20:11 guis.py\n",
      "-rwxrwxrwx 1 gpapalambrou gpapalambrou   93 Φεβ  28  2019 hello1.py\n",
      "drwxrwxrwx 2 gpapalambrou gpapalambrou 4096 Μαρ  21  2019 .idea\n",
      "-rwxrwxrwx 1 gpapalambrou gpapalambrou   98 Μαρ  13  2019 imptee.py\n",
      "-rwxrwxrwx 1 gpapalambrou gpapalambrou  421 Μαρ  13  2019 imptee.pyc\n",
      "-rwxrwxrwx 1 gpapalambrou gpapalambrou  139 Μαρ  13  2019 impter2.py\n",
      "-rwxrwxrwx 1 gpapalambrou gpapalambrou  126 Μαρ  13  2019 impter.py\n",
      "drwxr-xr-x 2 gpapalambrou gpapalambrou 4096 Απρ   9 18:50 .ipynb_checkpoints\n",
      "-rwxrwxrwx 1 gpapalambrou gpapalambrou   17 Μαρ   5  2019 myfile.txt\n",
      "-rwxrwxrwx 1 gpapalambrou gpapalambrou  132 Μαρ   5  2019 open_file.py\n",
      "-rw-r--r-- 1 gpapalambrou gpapalambrou 2395 Απρ   9 17:49 p38.ipynb\n",
      "-rwxrwxrwx 1 gpapalambrou gpapalambrou  228 Μαρ  15  2019 p38.py\n",
      "-rw-r--r-- 1 gpapalambrou gpapalambrou 1557 Απρ   9 17:52 p39.ipynb\n",
      "-rwxrwxrwx 1 gpapalambrou gpapalambrou  202 Μαρ  15  2019 p39.py\n",
      "-rw-r--r-- 1 gpapalambrou gpapalambrou 6749 Απρ   9 19:19 p40.ipynb\n",
      "-rwxrwxrwx 1 gpapalambrou gpapalambrou  226 Μαρ  15  2019 p43.py\n",
      "-rwxrwxrwx 1 gpapalambrou gpapalambrou  130 Μαρ  15  2019 p45.py\n",
      "-rwxrwxrwx 1 gpapalambrou gpapalambrou  987 Μαρ  15  2019 primes.py\n",
      "drwxrwxrwx 2 gpapalambrou gpapalambrou 4096 Μαρ  20  2019 __pycache__\n",
      "-rwxrwxrwx 1 gpapalambrou gpapalambrou  209 Μαρ  15  2019 scr_p40.py\n",
      "-rw-r--r-- 1 gpapalambrou gpapalambrou    0 Απρ   3 09:56 test\n",
      "-rw-r--r-- 1 gpapalambrou gpapalambrou   11 Απρ   2 22:07 tt\n",
      "-rw-r--r-- 1 gpapalambrou gpapalambrou  556 Απρ   9 17:53 Untitled1.ipynb\n",
      "-rw-r--r-- 1 gpapalambrou gpapalambrou 6460 Απρ   9 19:10 Untitled2.ipynb\n",
      "-rw-r--r-- 1 gpapalambrou gpapalambrou  556 Απρ   9 17:44 Untitled.ipynb\n"
     ]
    }
   ],
   "source": [
    "%%bash\n",
    "ls -all"
   ]
  },
  {
   "cell_type": "code",
   "execution_count": 12,
   "metadata": {},
   "outputs": [
    {
     "name": "stdout",
     "output_type": "stream",
     "text": [
      "Παρ 10 Απρ 2020 09:19:54 πμ EEST\n"
     ]
    }
   ],
   "source": [
    "%%bash\n",
    "date\n"
   ]
  },
  {
   "cell_type": "code",
   "execution_count": 13,
   "metadata": {
    "scrolled": true
   },
   "outputs": [
    {
     "name": "stdout",
     "output_type": "stream",
     "text": [
      "total 172\n",
      "drwxrwxrwx 5 gpapalambrou gpapalambrou  4096 Απρ  10 09:19 .\n",
      "drwxrwxrwx 7 gpapalambrou gpapalambrou  4096 Απρ   9 20:02 ..\n",
      "-rw-rw-r-- 1 gpapalambrou gpapalambrou 25475 Απρ   9 19:58 2D_test_matplot.ipynb\n",
      "-rwxrwxrwx 1 gpapalambrou gpapalambrou   627 Απρ   2 22:07 3_1.py\n",
      "-rwxrwxrwx 1 gpapalambrou gpapalambrou   570 Φεβ  28  2019 3_1.py~\n",
      "-rwxr-xr-x 1 gpapalambrou gpapalambrou   345 Απρ   2 22:05 3_2.py\n",
      "-rwxrwxrwx 1 gpapalambrou gpapalambrou   348 Μαρ  20  2019 atom.py\n",
      "-rwxrwxrwx 1 gpapalambrou gpapalambrou   210 Απρ   1 18:49 break.py\n",
      "-rwxrwxrwx 1 gpapalambrou gpapalambrou  1031 Μαρ  13  2019 easyMath1.py\n",
      "-rwxrwxrwx 1 gpapalambrou gpapalambrou   419 Μαρ  13  2019 ex_functions.py\n",
      "-rw-r--r-- 1 gpapalambrou gpapalambrou    60 Απρ   1 20:11 guis.py\n",
      "-rwxrwxrwx 1 gpapalambrou gpapalambrou    93 Φεβ  28  2019 hello1.py\n",
      "drwxrwxrwx 2 gpapalambrou gpapalambrou  4096 Μαρ  21  2019 .idea\n",
      "-rwxrwxrwx 1 gpapalambrou gpapalambrou    98 Μαρ  13  2019 imptee.py\n",
      "-rwxrwxrwx 1 gpapalambrou gpapalambrou   421 Μαρ  13  2019 imptee.pyc\n",
      "-rwxrwxrwx 1 gpapalambrou gpapalambrou   139 Μαρ  13  2019 impter2.py\n",
      "-rwxrwxrwx 1 gpapalambrou gpapalambrou   126 Μαρ  13  2019 impter.py\n",
      "drwxr-xr-x 2 gpapalambrou gpapalambrou  4096 Απρ   9 20:13 .ipynb_checkpoints\n",
      "-rw-r--r-- 1 gpapalambrou gpapalambrou   110 Απρ   9 20:20 module2.py\n",
      "-rw-r--r-- 1 gpapalambrou gpapalambrou   456 Απρ   9 20:21 module2.pyc\n",
      "-rwxrwxrwx 1 gpapalambrou gpapalambrou    17 Μαρ   5  2019 myfile.txt\n",
      "-rwxrwxrwx 1 gpapalambrou gpapalambrou   132 Μαρ   5  2019 open_file.py\n",
      "-rw-r--r-- 1 gpapalambrou gpapalambrou  3983 Απρ  10 09:06 p38.ipynb\n",
      "-rwxrwxrwx 1 gpapalambrou gpapalambrou   228 Μαρ  15  2019 p38.py\n",
      "-rw-r--r-- 1 gpapalambrou gpapalambrou  1559 Απρ  10 09:07 p39.ipynb\n",
      "-rwxrwxrwx 1 gpapalambrou gpapalambrou   202 Μαρ  15  2019 p39.py\n",
      "-rw-r--r-- 1 gpapalambrou gpapalambrou  9871 Απρ  10 09:19 p40.ipynb\n",
      "-rwxrwxrwx 1 gpapalambrou gpapalambrou   226 Μαρ  15  2019 p43.py\n",
      "-rwxrwxrwx 1 gpapalambrou gpapalambrou   130 Μαρ  15  2019 p45.py\n",
      "-rwxrwxrwx 1 gpapalambrou gpapalambrou   987 Μαρ  15  2019 primes.py\n",
      "drwxrwxrwx 2 gpapalambrou gpapalambrou  4096 Μαρ  20  2019 __pycache__\n",
      "-rwxrwxrwx 1 gpapalambrou gpapalambrou   209 Μαρ  15  2019 scr_p40.py\n",
      "-rw-r--r-- 1 gpapalambrou gpapalambrou  4028 Απρ   9 20:27 test_docstrings.ipynb\n",
      "-rw-r--r-- 1 gpapalambrou gpapalambrou    11 Απρ   2 22:07 tt\n",
      "-rw-r--r-- 1 gpapalambrou gpapalambrou  3497 Απρ   9 20:05 Untitled2.ipynb\n"
     ]
    }
   ],
   "source": [
    "%%bash\n",
    "ls -all"
   ]
  },
  {
   "cell_type": "markdown",
   "metadata": {},
   "source": [
    "total 172\n",
    "drwxrwxrwx 5 gpapalambrou gpapalambrou  4096 Απρ  10 09:19 .\n",
    "drwxrwxrwx 7 gpapalambrou gpapalambrou  4096 Απρ   9 20:02 ..\n",
    "-rw-rw-r-- 1 gpapalambrou gpapalambrou 25475 Απρ   9 19:58 2D_test_matplot.ipynb\n",
    "-rwxrwxrwx 1 gpapalambrou gpapalambrou   627 Απρ   2 22:07 3_1.py\n",
    "-rwxrwxrwx 1 gpapalambrou gpapalambrou   570 Φεβ  28  2019 3_1.py~\n",
    "-rwxr-xr-x 1 gpapalambrou gpapalambrou   345 Απρ   2 22:05 3_2.py"
   ]
  },
  {
   "cell_type": "markdown",
   "metadata": {},
   "source": [
    "* skfjsdkj;kds "
   ]
  },
  {
   "cell_type": "code",
   "execution_count": 32,
   "metadata": {},
   "outputs": [],
   "source": [
    "def intersect(seq1, seq2):\n",
    "    res = []\n",
    "    for x in seq1:\n",
    "        if x in seq2:\n",
    "            res.append(x)\n",
    "    return res"
   ]
  },
  {
   "cell_type": "code",
   "execution_count": 33,
   "metadata": {},
   "outputs": [],
   "source": [
    "s1 = \"PSAM\""
   ]
  },
  {
   "cell_type": "code",
   "execution_count": 34,
   "metadata": {},
   "outputs": [],
   "source": [
    "s2 = \"SCAM\""
   ]
  },
  {
   "cell_type": "code",
   "execution_count": 30,
   "metadata": {},
   "outputs": [
    {
     "data": {
      "text/plain": [
       "['S', 'A', 'M']"
      ]
     },
     "execution_count": 30,
     "metadata": {},
     "output_type": "execute_result"
    }
   ],
   "source": [
    "intersect(s1, s2)"
   ]
  },
  {
   "cell_type": "code",
   "execution_count": 35,
   "metadata": {},
   "outputs": [],
   "source": [
    "x = intersect([1, 2, 3], [1, 4])"
   ]
  },
  {
   "cell_type": "code",
   "execution_count": 14,
   "metadata": {},
   "outputs": [],
   "source": [
    "def times(x, y):\n",
    "    return x * y"
   ]
  },
  {
   "cell_type": "code",
   "execution_count": 15,
   "metadata": {},
   "outputs": [
    {
     "data": {
      "text/plain": [
       "8"
      ]
     },
     "execution_count": 15,
     "metadata": {},
     "output_type": "execute_result"
    }
   ],
   "source": [
    "times(2, 4)"
   ]
  },
  {
   "cell_type": "code",
   "execution_count": 36,
   "metadata": {},
   "outputs": [
    {
     "data": {
      "text/plain": [
       "[1]"
      ]
     },
     "execution_count": 36,
     "metadata": {},
     "output_type": "execute_result"
    }
   ],
   "source": [
    "x\n"
   ]
  },
  {
   "cell_type": "code",
   "execution_count": null,
   "metadata": {},
   "outputs": [],
   "source": []
  }
 ],
 "metadata": {
  "kernelspec": {
   "display_name": "Python 2",
   "language": "python",
   "name": "python2"
  },
  "language_info": {
   "codemirror_mode": {
    "name": "ipython",
    "version": 2
   },
   "file_extension": ".py",
   "mimetype": "text/x-python",
   "name": "python",
   "nbconvert_exporter": "python",
   "pygments_lexer": "ipython2",
   "version": "2.7.17"
  }
 },
 "nbformat": 4,
 "nbformat_minor": 2
}
